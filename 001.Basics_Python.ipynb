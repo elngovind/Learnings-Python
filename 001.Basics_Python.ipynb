{
  "nbformat": 4,
  "nbformat_minor": 0,
  "metadata": {
    "colab": {
      "name": "EdurekaNotes.ipynb",
      "provenance": [],
      "authorship_tag": "ABX9TyPHJkT3tASvRNIQauJ+GCWk",
      "include_colab_link": true
    },
    "kernelspec": {
      "name": "python3",
      "display_name": "Python 3"
    },
    "language_info": {
      "name": "python"
    }
  },
  "cells": [
    {
      "cell_type": "markdown",
      "metadata": {
        "id": "view-in-github",
        "colab_type": "text"
      },
      "source": [
        "<a href=\"https://colab.research.google.com/github/elngovind/Learnings-Python/blob/main/001.Basics_Python.ipynb\" target=\"_parent\"><img src=\"https://colab.research.google.com/assets/colab-badge.svg\" alt=\"Open In Colab\"/></a>"
      ]
    },
    {
      "cell_type": "markdown",
      "metadata": {
        "id": "WsgI8Sxx7zzc"
      },
      "source": [
        "**Always Start with the Best Practice:**\n",
        "Even Hello World Should be wriiten with a best practice"
      ]
    },
    {
      "cell_type": "code",
      "metadata": {
        "id": "A5jN8tdwaTbW",
        "colab": {
          "base_uri": "https://localhost:8080/"
        },
        "outputId": "2811ebfc-a461-4037-8001-41f7043205da"
      },
      "source": [
        "def main():\n",
        "  {\n",
        "    print(\"Hello World\")  \n",
        "}\n",
        "main()"
      ],
      "execution_count": 4,
      "outputs": [
        {
          "output_type": "stream",
          "text": [
            "Hello World\n"
          ],
          "name": "stdout"
        }
      ]
    }
  ]
}