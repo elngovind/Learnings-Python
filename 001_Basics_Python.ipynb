{
  "nbformat": 4,
  "nbformat_minor": 0,
  "metadata": {
    "colab": {
      "name": "001.Basics_Python.ipynb",
      "provenance": [],
      "collapsed_sections": [],
      "authorship_tag": "ABX9TyPSxlMQrILXoLELpIwRa7QB",
      "include_colab_link": true
    },
    "kernelspec": {
      "name": "python3",
      "display_name": "Python 3"
    },
    "language_info": {
      "name": "python"
    }
  },
  "cells": [
    {
      "cell_type": "markdown",
      "metadata": {
        "id": "view-in-github",
        "colab_type": "text"
      },
      "source": [
        "<a href=\"https://colab.research.google.com/github/elngovind/Learnings-Python/blob/main/001_Basics_Python.ipynb\" target=\"_parent\"><img src=\"https://colab.research.google.com/assets/colab-badge.svg\" alt=\"Open In Colab\"/></a>"
      ]
    },
    {
      "cell_type": "markdown",
      "metadata": {
        "id": "WsgI8Sxx7zzc"
      },
      "source": [
        "**Always Start with the Best Practice:**\n",
        "Even Hello World Should be wriiten with a best practice"
      ]
    },
    {
      "cell_type": "code",
      "metadata": {
        "id": "A5jN8tdwaTbW",
        "colab": {
          "base_uri": "https://localhost:8080/"
        },
        "outputId": "f8f87789-9714-431a-8147-4c38a7333497"
      },
      "source": [
        "def main():\n",
        "  {\n",
        "    print(\"Welcome to the World of Python\")  \n",
        "}\n",
        "main()"
      ],
      "execution_count": 9,
      "outputs": [
        {
          "output_type": "stream",
          "text": [
            "Welcome to the World of Python\n"
          ],
          "name": "stdout"
        }
      ]
    },
    {
      "cell_type": "code",
      "metadata": {
        "id": "miGt12Qx8X-V"
      },
      "source": [
        ""
      ],
      "execution_count": null,
      "outputs": []
    }
  ]
}